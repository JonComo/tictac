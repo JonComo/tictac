{
 "cells": [
  {
   "cell_type": "code",
   "execution_count": null,
   "metadata": {
    "collapsed": true
   },
   "outputs": [],
   "source": [
    "# adaptive thresholding\n",
    "\n",
    "import cv2\n",
    "from IPython.display import clear_output\n",
    "import numpy as np\n",
    "\n",
    "cam = cv2.VideoCapture(1)\n",
    "\n",
    "img_rows, img_cols = 64, 64\n",
    "\n",
    "while True:\n",
    "    ret_val, img = cam.read()\n",
    "    if img is None:\n",
    "        print(\"error opening camera\")\n",
    "        break\n",
    "    img = cv2.cvtColor(img, cv2.COLOR_BGR2GRAY)\n",
    "    img = cv2.resize(img, (int(img.shape[1]/9), int(img.shape[0]/9)))\n",
    "    sr, sc = 22, 24\n",
    "    img = img[sr:sr+img_rows, sc:sc+img_cols]\n",
    "\n",
    "\n",
    "    # adaptive thresholding\n",
    "    # http://docs.opencv.org/trunk/d7/d4d/tutorial_py_thresholding.html\n",
    "    img = cv2.adaptiveThreshold(img, 255, cv2.ADAPTIVE_THRESH_MEAN_C, cv2.THRESH_BINARY, 101, 15)\n",
    "    img = 255-img\n",
    "    img = img.astype(np.float64)\n",
    "    img /= 255\n",
    "\n",
    "    clear_output(wait=True)\n",
    "    cv2.imshow('board_detector', cv2.resize(img, (512, 512)))\n",
    "\n",
    "    if cv2.waitKey(1) == 27:\n",
    "        break  # esc to quit\n",
    "\n",
    "\n",
    "cv2.destroyAllWindows()"
   ]
  },
  {
   "cell_type": "code",
   "execution_count": 1,
   "metadata": {},
   "outputs": [
    {
     "name": "stdout",
     "output_type": "stream",
     "text": [
      "(911, 0)\n"
     ]
    },
    {
     "ename": "KeyboardInterrupt",
     "evalue": "",
     "output_type": "error",
     "traceback": [
      "\u001b[0;31m---------------------------------------------------------------------------\u001b[0m",
      "\u001b[0;31mKeyboardInterrupt\u001b[0m                         Traceback (most recent call last)",
      "\u001b[0;32m<ipython-input-1-4e52c3ac43c8>\u001b[0m in \u001b[0;36m<module>\u001b[0;34m()\u001b[0m\n\u001b[1;32m     16\u001b[0m \u001b[0;34m\u001b[0m\u001b[0m\n\u001b[1;32m     17\u001b[0m     \u001b[0mgray\u001b[0m \u001b[0;34m=\u001b[0m \u001b[0mcv2\u001b[0m\u001b[0;34m.\u001b[0m\u001b[0mcvtColor\u001b[0m\u001b[0;34m(\u001b[0m\u001b[0mimg\u001b[0m\u001b[0;34m,\u001b[0m \u001b[0mcv2\u001b[0m\u001b[0;34m.\u001b[0m\u001b[0mCOLOR_BGR2GRAY\u001b[0m\u001b[0;34m)\u001b[0m\u001b[0;34m\u001b[0m\u001b[0m\n\u001b[0;32m---> 18\u001b[0;31m     \u001b[0mgray\u001b[0m \u001b[0;34m=\u001b[0m \u001b[0mcv2\u001b[0m\u001b[0;34m.\u001b[0m\u001b[0mGaussianBlur\u001b[0m\u001b[0;34m(\u001b[0m\u001b[0mgray\u001b[0m\u001b[0;34m,\u001b[0m \u001b[0;34m(\u001b[0m\u001b[0;36m51\u001b[0m\u001b[0;34m,\u001b[0m \u001b[0;36m51\u001b[0m\u001b[0;34m)\u001b[0m\u001b[0;34m,\u001b[0m \u001b[0;36m0\u001b[0m\u001b[0;34m)\u001b[0m\u001b[0;34m\u001b[0m\u001b[0m\n\u001b[0m\u001b[1;32m     19\u001b[0m \u001b[0;34m\u001b[0m\u001b[0m\n\u001b[1;32m     20\u001b[0m     \u001b[0;34m(\u001b[0m\u001b[0mminVal\u001b[0m\u001b[0;34m,\u001b[0m \u001b[0mmaxVal\u001b[0m\u001b[0;34m,\u001b[0m \u001b[0mminLoc\u001b[0m\u001b[0;34m,\u001b[0m \u001b[0mmaxLoc\u001b[0m\u001b[0;34m)\u001b[0m \u001b[0;34m=\u001b[0m \u001b[0mcv2\u001b[0m\u001b[0;34m.\u001b[0m\u001b[0mminMaxLoc\u001b[0m\u001b[0;34m(\u001b[0m\u001b[0mgray\u001b[0m\u001b[0;34m)\u001b[0m\u001b[0;34m\u001b[0m\u001b[0m\n",
      "\u001b[0;31mKeyboardInterrupt\u001b[0m: "
     ]
    }
   ],
   "source": [
    "# light tracking\n",
    "\n",
    "import cv2\n",
    "from IPython.display import clear_output\n",
    "import numpy as np\n",
    "\n",
    "cam = cv2.VideoCapture(0)\n",
    "\n",
    "\n",
    "while True:\n",
    "    ret_val, img = cam.read()\n",
    "    if img is None:\n",
    "        print(\"error opening camera\")\n",
    "        break\n",
    "        \n",
    "\n",
    "    gray = cv2.cvtColor(img, cv2.COLOR_BGR2GRAY)\n",
    "    gray = cv2.GaussianBlur(gray, (51, 51), 0)\n",
    "    \n",
    "    (minVal, maxVal, minLoc, maxLoc) = cv2.minMaxLoc(gray)\n",
    "    cv2.circle(img, maxLoc, 20, (0, 0, 255), 2)\n",
    " \n",
    "    clear_output(wait=True)\n",
    "    print(maxLoc)\n",
    "    cv2.imshow('board_detector', img)\n",
    "\n",
    "    if cv2.waitKey(1) == 27:\n",
    "        break  # esc to quit\n",
    "\n",
    "\n",
    "cv2.destroyAllWindows()"
   ]
  },
  {
   "cell_type": "code",
   "execution_count": null,
   "metadata": {
    "collapsed": true
   },
   "outputs": [],
   "source": []
  }
 ],
 "metadata": {
  "kernelspec": {
   "display_name": "Python 3",
   "language": "python",
   "name": "python3"
  },
  "language_info": {
   "codemirror_mode": {
    "name": "ipython",
    "version": 3
   },
   "file_extension": ".py",
   "mimetype": "text/x-python",
   "name": "python",
   "nbconvert_exporter": "python",
   "pygments_lexer": "ipython3",
   "version": "3.6.1"
  }
 },
 "nbformat": 4,
 "nbformat_minor": 2
}
