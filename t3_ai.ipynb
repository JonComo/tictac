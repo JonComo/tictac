{
 "cells": [
  {
   "cell_type": "code",
   "execution_count": 1,
   "metadata": {
    "collapsed": true
   },
   "outputs": [],
   "source": [
    "%matplotlib inline\n",
    "from IPython.display import clear_output"
   ]
  },
  {
   "cell_type": "code",
   "execution_count": 2,
   "metadata": {},
   "outputs": [
    {
     "name": "stderr",
     "output_type": "stream",
     "text": [
      "Using TensorFlow backend.\n"
     ]
    }
   ],
   "source": [
    "from matplotlib import pyplot as plt\n",
    "import numpy as np\n",
    "import t3_ai"
   ]
  },
  {
   "cell_type": "code",
   "execution_count": 3,
   "metadata": {},
   "outputs": [
    {
     "name": "stdout",
     "output_type": "stream",
     "text": [
      "1\n",
      "\n",
      "- - - \n",
      "- - - \n",
      "- - - \n",
      "\n",
      "X - - \n",
      "- - - \n",
      "- - - \n",
      "\n",
      "X - - \n",
      "O - - \n",
      "- - - \n",
      "\n",
      "X X - \n",
      "O - - \n",
      "- - - \n",
      "\n",
      "X X - \n",
      "O - - \n",
      "- - O \n",
      "\n",
      "X X - \n",
      "O X - \n",
      "- - O \n",
      "\n",
      "X X O \n",
      "O X - \n",
      "- - O \n",
      "\n",
      "X X O \n",
      "O X - \n",
      "- X O \n"
     ]
    }
   ],
   "source": [
    "def random_move(state):\n",
    "    return np.random.choice(np.argwhere(state==0).flatten())\n",
    "\n",
    "def random_rollout():\n",
    "    state = np.zeros(9)\n",
    "    states = [state.copy()]\n",
    "    player = np.random.randint(0,2)*2-1\n",
    "    while True:\n",
    "        ri = random_move(state)\n",
    "        state[ri] = player\n",
    "        \n",
    "        states.append(state.copy())\n",
    "        \n",
    "        w = t3_ai.winner(state)\n",
    "        if w != 0:\n",
    "            #print(\"winner\")\n",
    "            return w, states\n",
    "        if t3_ai.draw(state):\n",
    "            #print(\"draw\")\n",
    "            return 0, states\n",
    "            \n",
    "        \n",
    "        player *= -1\n",
    "\n",
    "w, states = random_rollout()\n",
    "print(w)\n",
    "for s in states:\n",
    "    t3_ai.vis(s)"
   ]
  },
  {
   "cell_type": "code",
   "execution_count": 61,
   "metadata": {
    "collapsed": true
   },
   "outputs": [],
   "source": [
    "x_train = None\n",
    "y_train = None\n",
    "\n",
    "first_run = True\n",
    "\n",
    "for i in range(10000):\n",
    "    w, states = random_rollout()\n",
    "    states = np.array(states)\n",
    "    \n",
    "    targs = None\n",
    "    if w == 1:\n",
    "        targs = np.ones([states.shape[0], 1])\n",
    "    else:\n",
    "        targs = -1 * np.ones([states.shape[0], 1])\n",
    "    \n",
    "    if first_run:\n",
    "        first_run = False\n",
    "        x_train = states\n",
    "        y_train = targs\n",
    "    else:\n",
    "        x_train = np.vstack((x_train, states))\n",
    "        y_train = np.vstack((y_train, targs))"
   ]
  },
  {
   "cell_type": "code",
   "execution_count": 62,
   "metadata": {},
   "outputs": [
    {
     "name": "stdout",
     "output_type": "stream",
     "text": [
      "x_train: (86248, 9)\n",
      "y_train: (86248, 1)\n"
     ]
    }
   ],
   "source": [
    "print(\"x_train: \" + str(x_train.shape))\n",
    "print(\"y_train: \" + str(y_train.shape))"
   ]
  },
  {
   "cell_type": "code",
   "execution_count": 4,
   "metadata": {},
   "outputs": [
    {
     "name": "stdout",
     "output_type": "stream",
     "text": [
      "model created with # params: 353\n",
      "loading model weights from path: t3_weights-19-0.24.hdf5\n",
      "loaded weights\n"
     ]
    }
   ],
   "source": [
    "# create tictac ai\n",
    "t3 = t3_ai.AI(weights_path=\"t3_weights-19-0.24.hdf5\")"
   ]
  },
  {
   "cell_type": "code",
   "execution_count": 5,
   "metadata": {},
   "outputs": [
    {
     "name": "stdout",
     "output_type": "stream",
     "text": [
      "1\n",
      "\n",
      "- - - \n",
      "- - - \n",
      "- - - \n",
      "\n",
      "- - - \n",
      "- X - \n",
      "- - - \n",
      "\n",
      "- - - \n",
      "- X - \n",
      "- O - \n",
      "\n",
      "- - - \n",
      "- X - \n",
      "X O - \n",
      "\n",
      "- - - \n",
      "- X O \n",
      "X O - \n",
      "\n",
      "- - X \n",
      "- X O \n",
      "X O - \n"
     ]
    }
   ],
   "source": [
    "def best_rollout():\n",
    "    state = np.zeros(9)\n",
    "    states = [state.copy()]\n",
    "    player = np.random.randint(0, 2)*2-1\n",
    "    while True:\n",
    "        if player == 1:\n",
    "            # agentx\n",
    "            besta = t3.best_move(state)\n",
    "            state[besta] = player\n",
    "            \n",
    "        elif player == -1:\n",
    "            ri = random_move(state)\n",
    "            state[ri] = player\n",
    "        \n",
    "        states.append(state.copy())\n",
    "        \n",
    "        w = t3_ai.winner(state)\n",
    "        if w != 0:\n",
    "            #print(\"winner\")\n",
    "            return w, states\n",
    "        if t3_ai.draw(state):\n",
    "            #print(\"draw\")\n",
    "            return 0, states\n",
    "            \n",
    "        \n",
    "        player *= -1\n",
    "        \n",
    "w, states = best_rollout()\n",
    "print(w)\n",
    "for s in states:\n",
    "    t3_ai.vis(s)"
   ]
  },
  {
   "cell_type": "code",
   "execution_count": 29,
   "metadata": {},
   "outputs": [
    {
     "name": "stdout",
     "output_type": "stream",
     "text": [
      "potential state\n",
      "\n",
      "- - O \n",
      "- X - \n",
      "- - X \n",
      "0.562244\n",
      "best square\n",
      "8\n"
     ]
    }
   ],
   "source": [
    "from time import sleep\n",
    "state = np.array([0,0,-1,0,1,0,0,0,0])\n",
    "\n",
    "print(\"starting state\")\n",
    "t3_ai.vis(state)\n",
    "print(\"\\n\")\n",
    "sleep(4)\n",
    "\n",
    "available = np.argwhere(state==0).flatten()\n",
    "maxv = -100000\n",
    "besta = -1\n",
    "for a in available:\n",
    "    # get its value\n",
    "    test_state = state.copy()\n",
    "    test_state[a] = 1\n",
    "    value = t3.model.predict(test_state.reshape(1, 9))[0,0]\n",
    "    clear_output(wait=True)\n",
    "    print(\"potential state\")\n",
    "    t3_ai.vis(test_state)\n",
    "    print(value)\n",
    "    sleep(2)\n",
    "    if value > maxv:\n",
    "        maxv = value\n",
    "        besta = a\n",
    "\n",
    "if besta == -1:\n",
    "    print('whoops, dunno the answer')\n",
    "\n",
    "print(\"best square\")\n",
    "print(besta)"
   ]
  },
  {
   "cell_type": "code",
   "execution_count": 70,
   "metadata": {},
   "outputs": [
    {
     "name": "stdout",
     "output_type": "stream",
     "text": [
      "Train on 77623 samples, validate on 8625 samples\n",
      "Epoch 1/1\n",
      "77088/77623 [============================>.] - ETA: 0s - loss: 0.7637 - acc: 0.2656Epoch 00000: val_loss improved from inf to 0.75239, saving model to ./t3_weights-00-0.28.hdf5\n",
      "77623/77623 [==============================] - 3s - loss: 0.7637 - acc: 0.2655 - val_loss: 0.7524 - val_acc: 0.2806\n"
     ]
    },
    {
     "data": {
      "text/plain": [
       "[<matplotlib.lines.Line2D at 0x127d102e8>]"
      ]
     },
     "execution_count": 70,
     "metadata": {},
     "output_type": "execute_result"
    },
    {
     "data": {
      "image/png": "[encoded data removed]",
      "text/plain": [
       "<matplotlib.figure.Figure at 0x127c89a20>"
      ]
     },
     "metadata": {},
     "output_type": "display_data"
    }
   ],
   "source": [
    "#t3 = t3_ai.AI()\n",
    "\n",
    "losses = []\n",
    "for i in range(10):\n",
    "    clear_output(wait=True)\n",
    "    t3.fit(x_train, y_train, epochs=1)\n",
    "    ls = 0\n",
    "    for j in range(1000):\n",
    "        w, states = best_rollout()\n",
    "        if w != 1:\n",
    "            ls += 1\n",
    "    losses.append(ls)\n",
    "    \n",
    "plt.plot(losses)"
   ]
  },
  {
   "cell_type": "code",
   "execution_count": 66,
   "metadata": {},
   "outputs": [
    {
     "name": "stdout",
     "output_type": "stream",
     "text": [
      "\n",
      "- O X \n",
      "O X X \n",
      "- O O \n",
      "6\n"
     ]
    }
   ],
   "source": [
    "w, states = random_rollout()\n",
    "\n",
    "s = states[np.random.randint(len(states))]\n",
    "t3_ai.vis(s)\n",
    "print(t3.best_move(s))"
   ]
  },
  {
   "cell_type": "code",
   "execution_count": 67,
   "metadata": {},
   "outputs": [
    {
     "name": "stdout",
     "output_type": "stream",
     "text": [
      "wins: 956\n",
      "draws: 15\n",
      "losses: 29\n"
     ]
    }
   ],
   "source": [
    "wins = 0\n",
    "draws = 0\n",
    "losses = 0\n",
    "\n",
    "samples = 1000\n",
    "for i in range(samples):\n",
    "    w, states = best_rollout()\n",
    "    if w == 1:\n",
    "        wins += 1\n",
    "    elif w == 0:\n",
    "        draws +=1\n",
    "    elif w == -1:\n",
    "        losses += 1\n",
    "        \n",
    "print(\"wins: {}\".format(wins))\n",
    "print(\"draws: {}\".format(draws))\n",
    "print(\"losses: {}\".format(losses))"
   ]
  },
  {
   "cell_type": "code",
   "execution_count": null,
   "metadata": {
    "collapsed": true
   },
   "outputs": [],
   "source": []
  }
 ],
 "metadata": {
  "kernelspec": {
   "display_name": "Python 3",
   "language": "python",
   "name": "python3"
  },
  "language_info": {
   "codemirror_mode": {
    "name": "ipython",
    "version": 3
   },
   "file_extension": ".py",
   "mimetype": "text/x-python",
   "name": "python",
   "nbconvert_exporter": "python",
   "pygments_lexer": "ipython3",
   "version": "3.6.1"
  }
 },
 "nbformat": 4,
 "nbformat_minor": 1
}
